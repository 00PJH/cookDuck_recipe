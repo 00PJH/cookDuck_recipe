{
 "cells": [
  {
   "cell_type": "markdown",
   "id": "53bfc6d1",
   "metadata": {},
   "source": [
    "### 1. 요리 재료 전처리  & xlsx -> csv"
   ]
  },
  {
   "cell_type": "code",
   "execution_count": 4,
   "id": "13aeabd9",
   "metadata": {},
   "outputs": [
    {
     "name": "stdout",
     "output_type": "stream",
     "text": [
      "파일 처리 완료! 정렬된 파일이 '../data/recipe_ingredient_cleaned.csv'로 저장되었습니다.\n",
      "\n",
      "정렬된 데이터 상위 5개 행:\n",
      "   레시피 코드  재료순번  재료명  재료용량  재료타입 코드 재료타입명\n",
      "0       1     1    쌀    4컵  3060001   주재료\n",
      "1       1     2   안심  200g  3060001   주재료\n",
      "2       1     3  콩나물   20g  3060001   주재료\n",
      "3       1     4  청포묵  1/2모  3060001   주재료\n",
      "4       1     5  미나리   20g  3060001   주재료\n"
     ]
    }
   ],
   "source": [
    "import pandas as pd\n",
    "\n",
    "# 1. 파일 이름 정의\n",
    "folder = '../data/'\n",
    "file_in = folder + 'recipe_ingredient.xlsx'\n",
    "file_out = folder + 'recipe_ingredient_cleaned.csv'\n",
    "\n",
    "try:\n",
    "    # 2. 파일 로드 (한글 깨짐 및 오류 방지)\n",
    "    try:\n",
    "        df = pd.read_excel(file_in)\n",
    "    except UnicodeDecodeError:\n",
    "        print(\"cp949 인코딩 실패, utf-8로 재시도...\")\n",
    "        df = pd.read_excel(file_in, encoding='utf-8')\n",
    "    except Exception as e:\n",
    "        print(f\"읽기 오류 발생. Python 엔진으로 재시도...: {e}\")\n",
    "        df = pd.read_excel(file_in, encoding='cp949', engine='python', on_bad_lines='skip')\n",
    "\n",
    "\n",
    "    # --- (핵심) 3. 사용자 정의 정렬 순서 생성 ---\n",
    "    # '주재료' 1순위, '부재료' 2순위, '양념' 3순위로 지정\n",
    "    custom_order = {\n",
    "        '주재료': 1,\n",
    "        '부재료': 2,\n",
    "        '양념': 3\n",
    "    }\n",
    "    \n",
    "    # '재료타입명'을 기준으로 새로운 정렬용 'sort_order' 열을 생성합니다.\n",
    "    # 목록에 없는 값은 99순위로 밀려납니다.\n",
    "    df['sort_order'] = df['재료타입명'].map(custom_order).fillna(99)\n",
    "\n",
    "    # --- 4. 데이터 정렬 ---\n",
    "    # 1순위: 방금 만든 'sort_order' (주재료 > 부재료 > 양념)\n",
    "    # 2순위: 레시피 코드\n",
    "    # 3순위: 재료순번\n",
    "    df_sorted = df.sort_values(by=['sort_order', '레시피 코드', '재료순번'])\n",
    "\n",
    "    # 5. 불필요한 열 제거\n",
    "    # 정렬에 사용한 'sort_order' 열은 삭제합니다.\n",
    "    df_sorted = df_sorted.drop(columns=['sort_order'])\n",
    "\n",
    "    # 6. 파일 저장\n",
    "    # 엑셀 호환성을 위해 'utf-8-sig'로 저장\n",
    "    df_sorted.to_csv(file_out, index=False, encoding='utf-8-sig')\n",
    "\n",
    "    print(f\"파일 처리 완료! 정렬된 파일이 '{file_out}'로 저장되었습니다.\")\n",
    "    print(\"\\n정렬된 데이터 상위 5개 행:\")\n",
    "    print(df_sorted.head())\n",
    "\n",
    "except FileNotFoundError:\n",
    "    print(f\"오류: '{file_in}' 파일을 찾을 수 없습니다.\")\n",
    "except Exception as e:\n",
    "    print(f\"오류 발생: {e}\")"
   ]
  }
 ],
 "metadata": {
  "kernelspec": {
   "display_name": ".venv",
   "language": "python",
   "name": "python3"
  },
  "language_info": {
   "codemirror_mode": {
    "name": "ipython",
    "version": 3
   },
   "file_extension": ".py",
   "mimetype": "text/x-python",
   "name": "python",
   "nbconvert_exporter": "python",
   "pygments_lexer": "ipython3",
   "version": "3.10.12"
  }
 },
 "nbformat": 4,
 "nbformat_minor": 5
}
