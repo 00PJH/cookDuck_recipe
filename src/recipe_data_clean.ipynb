{
 "cells": [
  {
   "cell_type": "markdown",
   "id": "0be83ca9",
   "metadata": {},
   "source": [
    "## 요리 데이터 csv파일 전처리"
   ]
  },
  {
   "cell_type": "code",
   "execution_count": 7,
   "id": "df888578",
   "metadata": {},
   "outputs": [],
   "source": [
    "import pandas as pd\n",
    "\n",
    "file_path = '../data/'\n",
    "file_name = 'recipe_data.csv'\n",
    "\n",
    "df_data = pd.read_csv(\n",
    "    file_path + file_name,\n",
    "    encoding='cp949',\n",
    "    engine='python',\n",
    "    on_bad_lines='warn' \n",
    ")\n",
    "\n",
    "df_data.head(10)\n",
    "df_data.drop(columns=['칼로리','대표이미지 URL','상세 URL'])\n",
    "\n",
    "df_data.to_csv(file_path + 'recipe_data_cleaned.csv', index=False, encoding='cp949')\n"
   ]
  }
 ],
 "metadata": {
  "kernelspec": {
   "display_name": ".venv",
   "language": "python",
   "name": "python3"
  },
  "language_info": {
   "codemirror_mode": {
    "name": "ipython",
    "version": 3
   },
   "file_extension": ".py",
   "mimetype": "text/x-python",
   "name": "python",
   "nbconvert_exporter": "python",
   "pygments_lexer": "ipython3",
   "version": "3.10.12"
  }
 },
 "nbformat": 4,
 "nbformat_minor": 5
}
